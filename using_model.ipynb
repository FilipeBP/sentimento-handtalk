{
  "nbformat": 4,
  "nbformat_minor": 0,
  "metadata": {
    "colab": {
      "name": "using_model.ipynb",
      "provenance": [],
      "collapsed_sections": [],
      "toc_visible": true
    },
    "kernelspec": {
      "name": "python3",
      "display_name": "Python 3"
    }
  },
  "cells": [
    {
      "cell_type": "markdown",
      "metadata": {
        "id": "9oxfiSdJbIGr"
      },
      "source": [
        "## Teste do modelo\n",
        "Este notebook tem como objetivo testar o modelo salvo pelo joblib."
      ]
    },
    {
      "cell_type": "code",
      "metadata": {
        "id": "ITh6F0NOaqAF"
      },
      "source": [
        "import numpy as np\n",
        "import joblib\n",
        "import nltk\n",
        "import re"
      ],
      "execution_count": 14,
      "outputs": []
    },
    {
      "cell_type": "code",
      "metadata": {
        "id": "NwmdjMS_cgQe",
        "outputId": "d106a78c-c3af-43cc-bdd2-71c7b64c987a",
        "colab": {
          "base_uri": "https://localhost:8080/",
          "height": 51
        }
      },
      "source": [
        "#Baixando as stopwords\n",
        "nltk.download('stopwords')\n",
        "\n",
        "#Definindo o pré-processador para o vetorizador\n",
        "def preprocessador(instancia):\n",
        "  #Removendo stopwords\n",
        "  stopwords = set(nltk.corpus.stopwords.words('portuguese'))\n",
        "  stopwords.remove('não')\n",
        "\n",
        "  #Removendo caracteres indesejados\n",
        "  instancia = [p.lower() for p in instancia.split() if p.lower() not in stopwords]\n",
        "  instancia = \" \".join(instancia)\n",
        "\n",
        "  instancia = re.sub(\"[,.;/\\[\\]?!\\'\\\"]\", '', instancia)\n",
        "  return instancia"
      ],
      "execution_count": 17,
      "outputs": [
        {
          "output_type": "stream",
          "text": [
            "[nltk_data] Downloading package stopwords to /root/nltk_data...\n",
            "[nltk_data]   Package stopwords is already up-to-date!\n"
          ],
          "name": "stdout"
        }
      ]
    },
    {
      "cell_type": "code",
      "metadata": {
        "id": "UDqPLByMbSPx"
      },
      "source": [
        "model = joblib.load('modelo/model.sav)"
      ],
      "execution_count": 18,
      "outputs": []
    },
    {
      "cell_type": "code",
      "metadata": {
        "id": "ApqZDzCec5tQ",
        "outputId": "c99e7604-aa46-401a-8c83-b12e2b57e43d",
        "colab": {
          "base_uri": "https://localhost:8080/",
          "height": 153
        }
      },
      "source": [
        "#Frases customizadas\n",
        "frases = ['Não quero te ver nunca mais', #raiva\n",
        "          'Eu amo minha vida', #felicidade\n",
        "          'Sempre estou sozinho', #tristeza\n",
        "          'Ainda bem que encontrei dinheiro na rua'] #felicidade\n",
        "\n",
        "proba = model.predict_proba(frases)\n",
        "\n",
        "classes = ['felicidade', 'raiva', 'tristeza']\n",
        "print(f'\\n\\nSVC:\\nClassificações: {[classes[i] for i in np.argmax(proba, axis=1)]}\\nProbabilidades: {proba}')"
      ],
      "execution_count": 19,
      "outputs": [
        {
          "output_type": "stream",
          "text": [
            "\n",
            "\n",
            "SVC:\n",
            "Classificações: ['raiva', 'felicidade', 'tristeza', 'felicidade']\n",
            "Probabilidades: [[0.29358974 0.3692684  0.33714185]\n",
            " [0.47574517 0.23278279 0.29147204]\n",
            " [0.0915514  0.08156315 0.82688546]\n",
            " [0.83739618 0.14357874 0.01902508]]\n"
          ],
          "name": "stdout"
        }
      ]
    },
    {
      "cell_type": "markdown",
      "metadata": {
        "id": "lHSWAeRDedeC"
      },
      "source": [
        "O modelo realizou as predições com sucesso, e tendo capacidade de efetivar predições com um bom nível de confiança"
      ]
    },
    {
      "cell_type": "code",
      "metadata": {
        "id": "GbwHI7vrb38D"
      },
      "source": [
        ""
      ],
      "execution_count": null,
      "outputs": []
    }
  ]
}