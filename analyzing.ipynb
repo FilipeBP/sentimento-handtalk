{
  "nbformat": 4,
  "nbformat_minor": 0,
  "metadata": {
    "colab": {
      "name": "analyzing.ipynb",
      "provenance": []
    },
    "kernelspec": {
      "name": "python3",
      "display_name": "Python 3"
    }
  },
  "cells": [
    {
      "cell_type": "code",
      "metadata": {
        "id": "igfkOUnd5Fa0"
      },
      "source": [
        "import pandas as pd\n",
        "import numpy as np\n",
        "import nltk"
      ],
      "execution_count": 1,
      "outputs": []
    },
    {
      "cell_type": "markdown",
      "metadata": {
        "id": "SIeVuZxRiOha"
      },
      "source": [
        "## Preprocessamento\n",
        "Nesta etapa será definida funções para limpar os dados, além de remover as stopwords"
      ]
    },
    {
      "cell_type": "code",
      "metadata": {
        "id": "QDP2zGEK5zPF",
        "outputId": "02fb7c3a-b98a-49dc-d6a4-a49ec214c175",
        "colab": {
          "base_uri": "https://localhost:8080/",
          "height": 204
        }
      },
      "source": [
        "train = pd.read_excel('datasets/emotions-pt.xlsx')\n",
        "train.head()"
      ],
      "execution_count": 70,
      "outputs": [
        {
          "output_type": "execute_result",
          "data": {
            "text/html": [
              "<div>\n",
              "<style scoped>\n",
              "    .dataframe tbody tr th:only-of-type {\n",
              "        vertical-align: middle;\n",
              "    }\n",
              "\n",
              "    .dataframe tbody tr th {\n",
              "        vertical-align: top;\n",
              "    }\n",
              "\n",
              "    .dataframe thead th {\n",
              "        text-align: right;\n",
              "    }\n",
              "</style>\n",
              "<table border=\"1\" class=\"dataframe\">\n",
              "  <thead>\n",
              "    <tr style=\"text-align: right;\">\n",
              "      <th></th>\n",
              "      <th>conteúdo</th>\n",
              "      <th>sentimento</th>\n",
              "    </tr>\n",
              "  </thead>\n",
              "  <tbody>\n",
              "    <tr>\n",
              "      <th>0</th>\n",
              "      <td>eu não me senti humilhado</td>\n",
              "      <td>tristeza</td>\n",
              "    </tr>\n",
              "    <tr>\n",
              "      <th>1</th>\n",
              "      <td>Eu posso passar de uma sensação de desesperanç...</td>\n",
              "      <td>tristeza</td>\n",
              "    </tr>\n",
              "    <tr>\n",
              "      <th>2</th>\n",
              "      <td>estou pegando um minuto para postar me sinto g...</td>\n",
              "      <td>raiva</td>\n",
              "    </tr>\n",
              "    <tr>\n",
              "      <th>3</th>\n",
              "      <td>estou me sentindo mal-humorado</td>\n",
              "      <td>raiva</td>\n",
              "    </tr>\n",
              "    <tr>\n",
              "      <th>4</th>\n",
              "      <td>Eu tenho me sentido um pouco sobrecarregado ul...</td>\n",
              "      <td>tristeza</td>\n",
              "    </tr>\n",
              "  </tbody>\n",
              "</table>\n",
              "</div>"
            ],
            "text/plain": [
              "                                            conteúdo sentimento\n",
              "0                          eu não me senti humilhado   tristeza\n",
              "1  Eu posso passar de uma sensação de desesperanç...   tristeza\n",
              "2  estou pegando um minuto para postar me sinto g...      raiva\n",
              "3                     estou me sentindo mal-humorado      raiva\n",
              "4  Eu tenho me sentido um pouco sobrecarregado ul...   tristeza"
            ]
          },
          "metadata": {
            "tags": []
          },
          "execution_count": 70
        }
      ]
    },
    {
      "cell_type": "code",
      "metadata": {
        "id": "PQzpt2jN6Cdl",
        "outputId": "bb402b22-acba-411b-e2c7-88616cf5a168",
        "colab": {
          "base_uri": "https://localhost:8080/",
          "height": 85
        }
      },
      "source": [
        "train['sentimento'].value_counts()"
      ],
      "execution_count": 63,
      "outputs": [
        {
          "output_type": "execute_result",
          "data": {
            "text/plain": [
              "alegria     5362\n",
              "tristeza    4666\n",
              "raiva       2159\n",
              "Name: sentimento, dtype: int64"
            ]
          },
          "metadata": {
            "tags": []
          },
          "execution_count": 63
        }
      ]
    },
    {
      "cell_type": "code",
      "metadata": {
        "id": "SayqdDtD7DrE",
        "outputId": "7d8b5bb0-7de1-4b40-ca24-a88ddcb135c4",
        "colab": {
          "base_uri": "https://localhost:8080/",
          "height": 51
        }
      },
      "source": [
        "print(f\"Antes: {train['conteúdo'].count()}\")\n",
        "\n",
        "train.drop_duplicates(inplace=True)\n",
        "print(f\"Depois: {train['conteúdo'].count()}\")"
      ],
      "execution_count": 71,
      "outputs": [
        {
          "output_type": "stream",
          "text": [
            "Antes: 12187\n",
            "Depois: 12172\n"
          ],
          "name": "stdout"
        }
      ]
    },
    {
      "cell_type": "code",
      "metadata": {
        "id": "6h4iPQaEPWvz"
      },
      "source": [
        "#Separando as sentencas dos sentimentos\n",
        "X_train = train['conteúdo']\n",
        "Y_train = train['sentimento']"
      ],
      "execution_count": 72,
      "outputs": []
    },
    {
      "cell_type": "code",
      "metadata": {
        "id": "mnm-K6a4EwH3",
        "outputId": "8f8d4d49-8a87-42df-8cb4-4b2d7f600a92",
        "colab": {
          "base_uri": "https://localhost:8080/",
          "height": 51
        }
      },
      "source": [
        "#É necessário baixar as stopwords\n",
        "nltk.download('stopwords')\n",
        "\n",
        "#Criação da função que remove stopwords\n",
        "def remover_stopwords(conteudo):\n",
        "  stopwords = set(nltk.corpus.stopwords.words('portuguese'))\n",
        "  palavras = [p.lower() for p in conteudo.split() if p.lower() not in stopwords]\n",
        "  return \" \".join(palavras)"
      ],
      "execution_count": 83,
      "outputs": [
        {
          "output_type": "stream",
          "text": [
            "[nltk_data] Downloading package stopwords to /root/nltk_data...\n",
            "[nltk_data]   Package stopwords is already up-to-date!\n"
          ],
          "name": "stdout"
        }
      ]
    },
    {
      "cell_type": "code",
      "metadata": {
        "id": "oIduJfe2GG6k"
      },
      "source": [
        "#Criação da função de Stemming, para reduzir as palavras em radicais\n",
        "def criar_radicais(conteudo):\n",
        "  stemmer = nltk.stem.RSLPStemmer()\n",
        "  palavras = [stemmer.stem(p) for p in conteudo.split()]\n",
        "  return \" \".join(palavras)"
      ],
      "execution_count": 37,
      "outputs": []
    },
    {
      "cell_type": "code",
      "metadata": {
        "id": "dE1B3KKAJoMc"
      },
      "source": [
        "def preprocessamento(instancia):\n",
        "  instancia = remover_stopwords(instancia)\n",
        "  instancia = re.sub(\"[,.;/\\[\\]?!\\'\\\"]\", '', instancia)\n",
        "  return instancia\n"
      ],
      "execution_count": 84,
      "outputs": []
    },
    {
      "cell_type": "code",
      "metadata": {
        "id": "HTHUpMxVG1Cj",
        "outputId": "16191516-29bb-4aa9-886c-2df268100c3f",
        "colab": {
          "base_uri": "https://localhost:8080/",
          "height": 119
        }
      },
      "source": [
        "#Realizando o preprocessamento nos dados\n",
        "X_train = X_train.apply(lambda x: preprocessamento(x))\n",
        "X_train.head()"
      ],
      "execution_count": 85,
      "outputs": [
        {
          "output_type": "execute_result",
          "data": {
            "text/plain": [
              "0                                      senti humilhado\n",
              "1    posso passar sensação desesperança maldita esp...\n",
              "2        pegando minuto postar sinto ganancioso errado\n",
              "3                                sentindo mal-humorado\n",
              "4    sentido pouco sobrecarregado ultimamente certe...\n",
              "Name: conteúdo, dtype: object"
            ]
          },
          "metadata": {
            "tags": []
          },
          "execution_count": 85
        }
      ]
    },
    {
      "cell_type": "markdown",
      "metadata": {
        "id": "bT4EEoveim-0"
      },
      "source": [
        "## Classificação\n",
        "Será utilizado SVC e Naivy Bayes (MultinomialNB) para realizar o fit dos dados, além da tokenização dos dados. Por fim, será validado os modelos com o Cross Validation."
      ]
    },
    {
      "cell_type": "code",
      "metadata": {
        "id": "31mE-FS4Qjhu"
      },
      "source": [
        "#Criando um pipeline para Tokenização e Classificação\n",
        "from sklearn.feature_extraction.text import CountVectorizer\n",
        "from sklearn.naive_bayes import MultinomialNB\n",
        "from sklearn.svm import SVC\n",
        "from sklearn.pipeline import Pipeline\n",
        "\n",
        "#Pipelina para Naivy Bayes\n",
        "pipe_nb = Pipeline([\n",
        "    ('vetor', CountVectorizer(analyzer='word')),\n",
        "    ('nb', MultinomialNB())\n",
        "])\n",
        "\n",
        "#Pipeline para SVC\n",
        "pipe_svc = Pipeline([\n",
        "    ('vetor', CountVectorizer(analyzer='word')),\n",
        "    ('svc', SVC(kernel='linear'))\n",
        "])"
      ],
      "execution_count": 91,
      "outputs": []
    },
    {
      "cell_type": "code",
      "metadata": {
        "id": "gtQo8DrMW7Ke"
      },
      "source": [
        "from sklearn.model_selection import cross_val_score\n",
        "\n",
        "score_nb = cross_val_score(pipe_nb, X_train, Y_train, cv=5)\n",
        "score_svc = cross_val_score(pipe_svc, X_train, Y_train, cv=5)"
      ],
      "execution_count": 97,
      "outputs": []
    },
    {
      "cell_type": "code",
      "metadata": {
        "id": "X9ajHfUFZAme",
        "outputId": "bbb5d849-5d8d-441e-8c0c-0cd717fec6f8",
        "colab": {
          "base_uri": "https://localhost:8080/",
          "height": 51
        }
      },
      "source": [
        "print(f'MultinomialNB: {round(score_nb.mean(), 3)}\\nSVC: {round(score_svc.mean(), 3)}')"
      ],
      "execution_count": 101,
      "outputs": [
        {
          "output_type": "stream",
          "text": [
            "MultinomialNB: 0.827\n",
            "SVC: 0.857\n"
          ],
          "name": "stdout"
        }
      ]
    },
    {
      "cell_type": "code",
      "metadata": {
        "id": "A-4ebVTYbhrS"
      },
      "source": [
        ""
      ],
      "execution_count": null,
      "outputs": []
    }
  ]
}